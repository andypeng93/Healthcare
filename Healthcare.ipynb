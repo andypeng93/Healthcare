{
  "nbformat": 4,
  "nbformat_minor": 0,
  "metadata": {
    "colab": {
      "name": "Healthcare.ipynb",
      "provenance": [],
      "authorship_tag": "ABX9TyMzT8owQ0NBeGHqE6UBYnht",
      "include_colab_link": true
    },
    "kernelspec": {
      "name": "python3",
      "display_name": "Python 3"
    }
  },
  "cells": [
    {
      "cell_type": "markdown",
      "metadata": {
        "id": "view-in-github",
        "colab_type": "text"
      },
      "source": [
        "<a href=\"https://colab.research.google.com/github/andypeng93/Healthcare/blob/main/Healthcare.ipynb\" target=\"_parent\"><img src=\"https://colab.research.google.com/assets/colab-badge.svg\" alt=\"Open In Colab\"/></a>"
      ]
    },
    {
      "cell_type": "markdown",
      "metadata": {
        "id": "KLhSbTLWlWQm"
      },
      "source": [
        "# Importing Dataset"
      ]
    },
    {
      "cell_type": "code",
      "metadata": {
        "colab": {
          "base_uri": "https://localhost:8080/"
        },
        "id": "afqL0vMDPlJK",
        "outputId": "9756e657-6888-4f9d-f298-7f880abccc2d"
      },
      "source": [
        "from google.colab import drive\r\n",
        "drive.mount('/content/gdrive')"
      ],
      "execution_count": null,
      "outputs": [
        {
          "output_type": "stream",
          "text": [
            "Mounted at /content/gdrive\n"
          ],
          "name": "stdout"
        }
      ]
    },
    {
      "cell_type": "code",
      "metadata": {
        "id": "jwG2opI6RVhs"
      },
      "source": [
        "import os\r\n",
        "os.environ['KAGGLE_CONFIG_DIR'] = \"/content/gdrive/My Drive/Flatiron School/Healthcare\"\r\n",
        "# /content/gdrive/My Drive/Kaggle is the path where kaggle.json is present in the Google Drive"
      ],
      "execution_count": null,
      "outputs": []
    },
    {
      "cell_type": "code",
      "metadata": {
        "colab": {
          "base_uri": "https://localhost:8080/"
        },
        "id": "vXdnGu5aliiZ",
        "outputId": "b7547a74-06e7-4fbc-ba06-92212f377abc"
      },
      "source": [
        "#changing the working directory\r\n",
        "%cd /content/gdrive/My Drive/Flatiron School/Healthcare\r\n",
        "#Check the present working directory using pwd command"
      ],
      "execution_count": null,
      "outputs": [
        {
          "output_type": "stream",
          "text": [
            "/content/gdrive/My Drive/Flatiron School/Healthcare\n"
          ],
          "name": "stdout"
        }
      ]
    },
    {
      "cell_type": "code",
      "metadata": {
        "colab": {
          "base_uri": "https://localhost:8080/"
        },
        "id": "JdftN2Rmlqel",
        "outputId": "4c9c08da-4a54-46da-a982-dc5c9f2d58dc"
      },
      "source": [
        "!kaggle datasets download -d vetrirah/av-healthcare2"
      ],
      "execution_count": null,
      "outputs": [
        {
          "output_type": "stream",
          "text": [
            "Downloading av-healthcare2.zip to /content/gdrive/My Drive/Flatiron School/Healthcare\n",
            " 76% 5.00M/6.54M [00:00<00:00, 31.2MB/s]\n",
            "100% 6.54M/6.54M [00:00<00:00, 31.1MB/s]\n"
          ],
          "name": "stdout"
        }
      ]
    },
    {
      "cell_type": "code",
      "metadata": {
        "colab": {
          "base_uri": "https://localhost:8080/"
        },
        "id": "XLR2XVUblunc",
        "outputId": "a9d8bf38-e3e8-41e5-c9a9-915a63e3fc21"
      },
      "source": [
        "#unzipping the zip files and deleting the zip files\r\n",
        "!unzip \\*.zip  && rm *.zip"
      ],
      "execution_count": null,
      "outputs": [
        {
          "output_type": "stream",
          "text": [
            "Archive:  av-healthcare2.zip\n",
            "  inflating: sample_submission.csv   \n",
            "  inflating: test.csv                \n",
            "  inflating: train.csv               \n",
            "  inflating: train_data_dict.csv     \n"
          ],
          "name": "stdout"
        }
      ]
    },
    {
      "cell_type": "code",
      "metadata": {
        "colab": {
          "base_uri": "https://localhost:8080/"
        },
        "id": "H3r76iUblv_r",
        "outputId": "b4a109fa-bf78-4a60-c2b0-191ba2896239"
      },
      "source": [
        "!ls"
      ],
      "execution_count": null,
      "outputs": [
        {
          "output_type": "stream",
          "text": [
            "Healthcare.ipynb  sample_submission.csv  train.csv\n",
            "kaggle.json\t  test.csv\t\t train_data_dict.csv\n"
          ],
          "name": "stdout"
        }
      ]
    },
    {
      "cell_type": "markdown",
      "metadata": {
        "id": "e111iZm9l4SQ"
      },
      "source": [
        "# Imports and Loading Datasets"
      ]
    },
    {
      "cell_type": "code",
      "metadata": {
        "id": "md2_YQagl1PC"
      },
      "source": [
        "import pandas as pd\r\n",
        "import numpy as np\r\n",
        "import matplotlib.pyplot as plt\r\n",
        "%matplotlib inline\r\n",
        "import keras\r\n",
        "import tensorflow as tf\r\n",
        "from keras import models, layers, optimizers, regularizers\r\n",
        "from keras.models import Sequential\r\n",
        "from keras.layers import Dense\r\n",
        "from sklearn.model_selection import train_test_split\r\n",
        "from keras.preprocessing import image\r\n",
        "import seaborn as sns\r\n",
        "from sklearn.metrics import roc_curve, auc, precision_score, recall_score, accuracy_score, f1_score, confusion_matrix, classification_report, roc_auc_score\r\n",
        "np.random.seed(123)"
      ],
      "execution_count": null,
      "outputs": []
    },
    {
      "cell_type": "code",
      "metadata": {
        "colab": {
          "base_uri": "https://localhost:8080/",
          "height": 595
        },
        "id": "4tBSZbP1o2eJ",
        "outputId": "c51ef602-f5f9-4582-9afa-547b6a4d3c61"
      },
      "source": [
        "datainfo = pd.read_csv('train_data_dict.csv')\r\n",
        "datainfo"
      ],
      "execution_count": null,
      "outputs": [
        {
          "output_type": "execute_result",
          "data": {
            "text/html": [
              "<div>\n",
              "<style scoped>\n",
              "    .dataframe tbody tr th:only-of-type {\n",
              "        vertical-align: middle;\n",
              "    }\n",
              "\n",
              "    .dataframe tbody tr th {\n",
              "        vertical-align: top;\n",
              "    }\n",
              "\n",
              "    .dataframe thead th {\n",
              "        text-align: right;\n",
              "    }\n",
              "</style>\n",
              "<table border=\"1\" class=\"dataframe\">\n",
              "  <thead>\n",
              "    <tr style=\"text-align: right;\">\n",
              "      <th></th>\n",
              "      <th>Column</th>\n",
              "      <th>Description</th>\n",
              "    </tr>\n",
              "  </thead>\n",
              "  <tbody>\n",
              "    <tr>\n",
              "      <th>0</th>\n",
              "      <td>case_id</td>\n",
              "      <td>Case_ID registered in Hospital</td>\n",
              "    </tr>\n",
              "    <tr>\n",
              "      <th>1</th>\n",
              "      <td>Hospital_code</td>\n",
              "      <td>Unique code for the Hospital</td>\n",
              "    </tr>\n",
              "    <tr>\n",
              "      <th>2</th>\n",
              "      <td>Hospital_type_code</td>\n",
              "      <td>Unique code for the type of Hospital</td>\n",
              "    </tr>\n",
              "    <tr>\n",
              "      <th>3</th>\n",
              "      <td>City_Code_Hospital</td>\n",
              "      <td>City Code of the Hospital</td>\n",
              "    </tr>\n",
              "    <tr>\n",
              "      <th>4</th>\n",
              "      <td>Hospital_region_code</td>\n",
              "      <td>Region Code of the Hospital</td>\n",
              "    </tr>\n",
              "    <tr>\n",
              "      <th>5</th>\n",
              "      <td>Available Extra Rooms in Hospital</td>\n",
              "      <td>Number of Extra rooms available in the Hospital</td>\n",
              "    </tr>\n",
              "    <tr>\n",
              "      <th>6</th>\n",
              "      <td>Department</td>\n",
              "      <td>Department overlooking the case</td>\n",
              "    </tr>\n",
              "    <tr>\n",
              "      <th>7</th>\n",
              "      <td>Ward_Type</td>\n",
              "      <td>Code for the Ward type</td>\n",
              "    </tr>\n",
              "    <tr>\n",
              "      <th>8</th>\n",
              "      <td>Ward_Facility_Code</td>\n",
              "      <td>Code for the Ward Facility</td>\n",
              "    </tr>\n",
              "    <tr>\n",
              "      <th>9</th>\n",
              "      <td>Bed Grade</td>\n",
              "      <td>Condition of Bed in the Ward</td>\n",
              "    </tr>\n",
              "    <tr>\n",
              "      <th>10</th>\n",
              "      <td>patientid</td>\n",
              "      <td>Unique Patient Id</td>\n",
              "    </tr>\n",
              "    <tr>\n",
              "      <th>11</th>\n",
              "      <td>City_Code_Patient</td>\n",
              "      <td>City Code for the patient</td>\n",
              "    </tr>\n",
              "    <tr>\n",
              "      <th>12</th>\n",
              "      <td>Type of Admission</td>\n",
              "      <td>Admission Type registered by the Hospital</td>\n",
              "    </tr>\n",
              "    <tr>\n",
              "      <th>13</th>\n",
              "      <td>Severity of Illness</td>\n",
              "      <td>Severity of the illness recorded at the time o...</td>\n",
              "    </tr>\n",
              "    <tr>\n",
              "      <th>14</th>\n",
              "      <td>Visitors with Patient</td>\n",
              "      <td>Number of Visitors with the patient</td>\n",
              "    </tr>\n",
              "    <tr>\n",
              "      <th>15</th>\n",
              "      <td>Age</td>\n",
              "      <td>Age of the patient</td>\n",
              "    </tr>\n",
              "    <tr>\n",
              "      <th>16</th>\n",
              "      <td>Admission_Deposit</td>\n",
              "      <td>Deposit at the Admission Time</td>\n",
              "    </tr>\n",
              "    <tr>\n",
              "      <th>17</th>\n",
              "      <td>Stay</td>\n",
              "      <td>Stay Days by the patient</td>\n",
              "    </tr>\n",
              "  </tbody>\n",
              "</table>\n",
              "</div>"
            ],
            "text/plain": [
              "                               Column                                        Description\n",
              "0                             case_id                     Case_ID registered in Hospital\n",
              "1                       Hospital_code                       Unique code for the Hospital\n",
              "2                  Hospital_type_code               Unique code for the type of Hospital\n",
              "3                  City_Code_Hospital                          City Code of the Hospital\n",
              "4                Hospital_region_code                        Region Code of the Hospital\n",
              "5   Available Extra Rooms in Hospital    Number of Extra rooms available in the Hospital\n",
              "6                          Department                    Department overlooking the case\n",
              "7                           Ward_Type                             Code for the Ward type\n",
              "8                  Ward_Facility_Code                         Code for the Ward Facility\n",
              "9                           Bed Grade                       Condition of Bed in the Ward\n",
              "10                          patientid                                  Unique Patient Id\n",
              "11                  City_Code_Patient                          City Code for the patient\n",
              "12                  Type of Admission          Admission Type registered by the Hospital\n",
              "13                Severity of Illness  Severity of the illness recorded at the time o...\n",
              "14              Visitors with Patient                Number of Visitors with the patient\n",
              "15                                Age                                 Age of the patient\n",
              "16                  Admission_Deposit                      Deposit at the Admission Time\n",
              "17                               Stay                           Stay Days by the patient"
            ]
          },
          "metadata": {
            "tags": []
          },
          "execution_count": 7
        }
      ]
    },
    {
      "cell_type": "code",
      "metadata": {
        "colab": {
          "base_uri": "https://localhost:8080/"
        },
        "id": "6wNoxCACmDKO",
        "outputId": "7ca2c08f-04db-4758-d543-e285f499bd70"
      },
      "source": [
        "dftrain = pd.read_csv('train.csv')\r\n",
        "print(dftrain.head())\r\n",
        "print(len(dftrain))"
      ],
      "execution_count": null,
      "outputs": [
        {
          "output_type": "stream",
          "text": [
            "   case_id  Hospital_code Hospital_type_code  ...    Age Admission_Deposit   Stay\n",
            "0        1              8                  c  ...  51-60            4911.0   0-10\n",
            "1        2              2                  c  ...  51-60            5954.0  41-50\n",
            "2        3             10                  e  ...  51-60            4745.0  31-40\n",
            "3        4             26                  b  ...  51-60            7272.0  41-50\n",
            "4        5             26                  b  ...  51-60            5558.0  41-50\n",
            "\n",
            "[5 rows x 18 columns]\n",
            "318438\n"
          ],
          "name": "stdout"
        }
      ]
    },
    {
      "cell_type": "code",
      "metadata": {
        "colab": {
          "base_uri": "https://localhost:8080/"
        },
        "id": "zsdbxyQQmKJ5",
        "outputId": "5ad84525-683a-497e-f300-4bc313750e66"
      },
      "source": [
        "dftest = pd.read_csv('test.csv')\r\n",
        "print(dftest.head())\r\n",
        "print(len(dftest))"
      ],
      "execution_count": null,
      "outputs": [
        {
          "output_type": "stream",
          "text": [
            "   case_id  Hospital_code  ...    Age  Admission_Deposit\n",
            "0   318439             21  ...  71-80             3095.0\n",
            "1   318440             29  ...  71-80             4018.0\n",
            "2   318441             26  ...  71-80             4492.0\n",
            "3   318442              6  ...  71-80             4173.0\n",
            "4   318443             28  ...  71-80             4161.0\n",
            "\n",
            "[5 rows x 17 columns]\n",
            "137057\n"
          ],
          "name": "stdout"
        }
      ]
    },
    {
      "cell_type": "code",
      "metadata": {
        "id": "z7E2GjdTm1Vv"
      },
      "source": [
        "df = pd.concat([dftrain, dftest])"
      ],
      "execution_count": null,
      "outputs": []
    },
    {
      "cell_type": "code",
      "metadata": {
        "colab": {
          "base_uri": "https://localhost:8080/",
          "height": 356
        },
        "id": "i1lku7yioMXH",
        "outputId": "f847aa99-b819-4d23-8fa0-8f1fbaf104b5"
      },
      "source": [
        "df.head()"
      ],
      "execution_count": null,
      "outputs": [
        {
          "output_type": "execute_result",
          "data": {
            "text/html": [
              "<div>\n",
              "<style scoped>\n",
              "    .dataframe tbody tr th:only-of-type {\n",
              "        vertical-align: middle;\n",
              "    }\n",
              "\n",
              "    .dataframe tbody tr th {\n",
              "        vertical-align: top;\n",
              "    }\n",
              "\n",
              "    .dataframe thead th {\n",
              "        text-align: right;\n",
              "    }\n",
              "</style>\n",
              "<table border=\"1\" class=\"dataframe\">\n",
              "  <thead>\n",
              "    <tr style=\"text-align: right;\">\n",
              "      <th></th>\n",
              "      <th>case_id</th>\n",
              "      <th>Hospital_code</th>\n",
              "      <th>Hospital_type_code</th>\n",
              "      <th>City_Code_Hospital</th>\n",
              "      <th>Hospital_region_code</th>\n",
              "      <th>Available Extra Rooms in Hospital</th>\n",
              "      <th>Department</th>\n",
              "      <th>Ward_Type</th>\n",
              "      <th>Ward_Facility_Code</th>\n",
              "      <th>Bed Grade</th>\n",
              "      <th>patientid</th>\n",
              "      <th>City_Code_Patient</th>\n",
              "      <th>Type of Admission</th>\n",
              "      <th>Severity of Illness</th>\n",
              "      <th>Visitors with Patient</th>\n",
              "      <th>Age</th>\n",
              "      <th>Admission_Deposit</th>\n",
              "      <th>Stay</th>\n",
              "    </tr>\n",
              "  </thead>\n",
              "  <tbody>\n",
              "    <tr>\n",
              "      <th>0</th>\n",
              "      <td>1</td>\n",
              "      <td>8</td>\n",
              "      <td>c</td>\n",
              "      <td>3</td>\n",
              "      <td>Z</td>\n",
              "      <td>3</td>\n",
              "      <td>radiotherapy</td>\n",
              "      <td>R</td>\n",
              "      <td>F</td>\n",
              "      <td>2.0</td>\n",
              "      <td>31397</td>\n",
              "      <td>7.0</td>\n",
              "      <td>Emergency</td>\n",
              "      <td>Extreme</td>\n",
              "      <td>2</td>\n",
              "      <td>51-60</td>\n",
              "      <td>4911.0</td>\n",
              "      <td>0-10</td>\n",
              "    </tr>\n",
              "    <tr>\n",
              "      <th>1</th>\n",
              "      <td>2</td>\n",
              "      <td>2</td>\n",
              "      <td>c</td>\n",
              "      <td>5</td>\n",
              "      <td>Z</td>\n",
              "      <td>2</td>\n",
              "      <td>radiotherapy</td>\n",
              "      <td>S</td>\n",
              "      <td>F</td>\n",
              "      <td>2.0</td>\n",
              "      <td>31397</td>\n",
              "      <td>7.0</td>\n",
              "      <td>Trauma</td>\n",
              "      <td>Extreme</td>\n",
              "      <td>2</td>\n",
              "      <td>51-60</td>\n",
              "      <td>5954.0</td>\n",
              "      <td>41-50</td>\n",
              "    </tr>\n",
              "    <tr>\n",
              "      <th>2</th>\n",
              "      <td>3</td>\n",
              "      <td>10</td>\n",
              "      <td>e</td>\n",
              "      <td>1</td>\n",
              "      <td>X</td>\n",
              "      <td>2</td>\n",
              "      <td>anesthesia</td>\n",
              "      <td>S</td>\n",
              "      <td>E</td>\n",
              "      <td>2.0</td>\n",
              "      <td>31397</td>\n",
              "      <td>7.0</td>\n",
              "      <td>Trauma</td>\n",
              "      <td>Extreme</td>\n",
              "      <td>2</td>\n",
              "      <td>51-60</td>\n",
              "      <td>4745.0</td>\n",
              "      <td>31-40</td>\n",
              "    </tr>\n",
              "    <tr>\n",
              "      <th>3</th>\n",
              "      <td>4</td>\n",
              "      <td>26</td>\n",
              "      <td>b</td>\n",
              "      <td>2</td>\n",
              "      <td>Y</td>\n",
              "      <td>2</td>\n",
              "      <td>radiotherapy</td>\n",
              "      <td>R</td>\n",
              "      <td>D</td>\n",
              "      <td>2.0</td>\n",
              "      <td>31397</td>\n",
              "      <td>7.0</td>\n",
              "      <td>Trauma</td>\n",
              "      <td>Extreme</td>\n",
              "      <td>2</td>\n",
              "      <td>51-60</td>\n",
              "      <td>7272.0</td>\n",
              "      <td>41-50</td>\n",
              "    </tr>\n",
              "    <tr>\n",
              "      <th>4</th>\n",
              "      <td>5</td>\n",
              "      <td>26</td>\n",
              "      <td>b</td>\n",
              "      <td>2</td>\n",
              "      <td>Y</td>\n",
              "      <td>2</td>\n",
              "      <td>radiotherapy</td>\n",
              "      <td>S</td>\n",
              "      <td>D</td>\n",
              "      <td>2.0</td>\n",
              "      <td>31397</td>\n",
              "      <td>7.0</td>\n",
              "      <td>Trauma</td>\n",
              "      <td>Extreme</td>\n",
              "      <td>2</td>\n",
              "      <td>51-60</td>\n",
              "      <td>5558.0</td>\n",
              "      <td>41-50</td>\n",
              "    </tr>\n",
              "  </tbody>\n",
              "</table>\n",
              "</div>"
            ],
            "text/plain": [
              "   case_id  Hospital_code Hospital_type_code  ...    Age Admission_Deposit   Stay\n",
              "0        1              8                  c  ...  51-60            4911.0   0-10\n",
              "1        2              2                  c  ...  51-60            5954.0  41-50\n",
              "2        3             10                  e  ...  51-60            4745.0  31-40\n",
              "3        4             26                  b  ...  51-60            7272.0  41-50\n",
              "4        5             26                  b  ...  51-60            5558.0  41-50\n",
              "\n",
              "[5 rows x 18 columns]"
            ]
          },
          "metadata": {
            "tags": []
          },
          "execution_count": 11
        }
      ]
    },
    {
      "cell_type": "code",
      "metadata": {
        "colab": {
          "base_uri": "https://localhost:8080/"
        },
        "id": "Kss-qUEUoNGv",
        "outputId": "e91b14db-d02d-4671-897d-12d0ede5ef1c"
      },
      "source": [
        "df.columns\r\n",
        "for column in df.columns:\r\n",
        "  print(column)\r\n",
        "  print(df[column].value_counts())"
      ],
      "execution_count": null,
      "outputs": [
        {
          "output_type": "stream",
          "text": [
            "case_id\n",
            "2047      1\n",
            "429179    1\n",
            "402542    1\n",
            "404591    1\n",
            "447600    1\n",
            "         ..\n",
            "234279    1\n",
            "256808    1\n",
            "254761    1\n",
            "260906    1\n",
            "2049      1\n",
            "Name: case_id, Length: 455495, dtype: int64\n",
            "Hospital_code\n",
            "26    47523\n",
            "23    38220\n",
            "19    30036\n",
            "6     29221\n",
            "11    24827\n",
            "14    24715\n",
            "28    24572\n",
            "27    20243\n",
            "9     16360\n",
            "12    16170\n",
            "29    16158\n",
            "32    15252\n",
            "25    14046\n",
            "10    13538\n",
            "15    13326\n",
            "21    11784\n",
            "24    11467\n",
            "3     10277\n",
            "17     7844\n",
            "1      7460\n",
            "5      7448\n",
            "13     7432\n",
            "2      7277\n",
            "30     7215\n",
            "22     6006\n",
            "31     5740\n",
            "8      5284\n",
            "16     5244\n",
            "18     5228\n",
            "20     1962\n",
            "7      1871\n",
            "4      1749\n",
            "Name: Hospital_code, dtype: int64\n",
            "Hospital_type_code\n",
            "a    204730\n",
            "b     98884\n",
            "c     66147\n",
            "e     35428\n",
            "d     29048\n",
            "f     15252\n",
            "g      6006\n",
            "Name: Hospital_type_code, dtype: int64\n",
            "City_Code_Hospital\n",
            "1     79058\n",
            "2     74312\n",
            "6     67441\n",
            "7     50279\n",
            "3     45544\n",
            "5     44395\n",
            "9     37428\n",
            "11    24572\n",
            "4     19778\n",
            "10     7460\n",
            "13     5228\n",
            "Name: City_Code_Hospital, dtype: int64\n",
            "Hospital_region_code\n",
            "X    190849\n",
            "Y    174707\n",
            "Z     89939\n",
            "Name: Hospital_region_code, dtype: int64\n",
            "Available Extra Rooms in Hospital\n",
            "2     140895\n",
            "4     131191\n",
            "3     130755\n",
            "5      27602\n",
            "6      11003\n",
            "1       7984\n",
            "7       4107\n",
            "8       1468\n",
            "9        327\n",
            "10        89\n",
            "11        24\n",
            "0         22\n",
            "12        17\n",
            "21         4\n",
            "13         3\n",
            "20         2\n",
            "14         1\n",
            "24         1\n",
            "Name: Available Extra Rooms in Hospital, dtype: int64\n",
            "Department\n",
            "gynecology            356688\n",
            "anesthesia             42358\n",
            "radiotherapy           41033\n",
            "TB & Chest disease     13751\n",
            "surgery                 1665\n",
            "Name: Department, dtype: int64\n",
            "Ward_Type\n",
            "R    182939\n",
            "Q    152046\n",
            "S    111166\n",
            "P      7199\n",
            "T      2133\n",
            "U        12\n",
            "Name: Ward_Type, dtype: int64\n",
            "Ward_Facility_Code\n",
            "F    161470\n",
            "E     79058\n",
            "D     74312\n",
            "C     50279\n",
            "B     50116\n",
            "A     40260\n",
            "Name: Ward_Facility_Code, dtype: int64\n",
            "Bed Grade\n",
            "2.0    176451\n",
            "3.0    158942\n",
            "4.0     82387\n",
            "1.0     37567\n",
            "Name: Bed Grade, dtype: int64\n",
            "patientid\n",
            "66714     50\n",
            "91292     43\n",
            "38525     39\n",
            "114456    37\n",
            "101359    36\n",
            "          ..\n",
            "52293      1\n",
            "40950      1\n",
            "34805      1\n",
            "120340     1\n",
            "10047      1\n",
            "Name: patientid, Length: 131624, dtype: int64\n",
            "City_Code_Patient\n",
            "8.0     176825\n",
            "2.0      55681\n",
            "1.0      37772\n",
            "7.0      33958\n",
            "5.0      28978\n",
            "4.0      22044\n",
            "9.0      16692\n",
            "15.0     12804\n",
            "10.0     11809\n",
            "6.0       8723\n",
            "12.0      8124\n",
            "3.0       5401\n",
            "23.0      5320\n",
            "14.0      4218\n",
            "16.0      3187\n",
            "21.0      2298\n",
            "13.0      2228\n",
            "18.0      2010\n",
            "20.0      1936\n",
            "26.0      1522\n",
            "19.0      1458\n",
            "25.0      1171\n",
            "27.0      1032\n",
            "11.0       933\n",
            "28.0       714\n",
            "22.0       534\n",
            "24.0       514\n",
            "30.0       194\n",
            "29.0       192\n",
            "33.0       121\n",
            "34.0        96\n",
            "32.0        95\n",
            "37.0        78\n",
            "31.0        67\n",
            "35.0        30\n",
            "36.0        29\n",
            "38.0        18\n",
            "Name: City_Code_Patient, dtype: int64\n",
            "Type of Admission\n",
            "Trauma       217672\n",
            "Emergency    168363\n",
            "Urgent        69460\n",
            "Name: Type of Admission, dtype: int64\n",
            "Severity of Illness\n",
            "Moderate    251565\n",
            "Minor       122735\n",
            "Extreme      81195\n",
            "Name: Severity of Illness, dtype: int64\n",
            "Visitors with Patient\n",
            "2     197734\n",
            "4     113497\n",
            "3      84689\n",
            "6      27011\n",
            "5      13314\n",
            "8       6920\n",
            "7       3556\n",
            "9       1918\n",
            "1       1776\n",
            "10      1632\n",
            "12      1376\n",
            "11       443\n",
            "16       408\n",
            "14       310\n",
            "15       271\n",
            "13       147\n",
            "20       100\n",
            "24        99\n",
            "18        94\n",
            "0         34\n",
            "30        26\n",
            "22        26\n",
            "17        25\n",
            "21        24\n",
            "19        21\n",
            "25        12\n",
            "32        12\n",
            "23        10\n",
            "29        10\n",
            "Name: Visitors with Patient, dtype: int64\n",
            "Age\n",
            "41-50     91495\n",
            "31-40     90420\n",
            "51-60     69506\n",
            "21-30     58560\n",
            "71-80     50737\n",
            "61-70     48619\n",
            "11-20     23871\n",
            "81-90     11240\n",
            "0-10       9140\n",
            "91-100     1907\n",
            "Name: Age, dtype: int64\n",
            "Admission_Deposit\n",
            "4469.0    445\n",
            "4277.0    427\n",
            "4624.0    408\n",
            "4789.0    378\n",
            "4400.0    340\n",
            "         ... \n",
            "9728.0      1\n",
            "8745.0      1\n",
            "8752.0      1\n",
            "9953.0      1\n",
            "1842.0      1\n",
            "Name: Admission_Deposit, Length: 7634, dtype: int64\n",
            "Stay\n",
            "21-30                 87491\n",
            "11-20                 78139\n",
            "31-40                 55159\n",
            "51-60                 35018\n",
            "0-10                  23604\n",
            "41-50                 11743\n",
            "71-80                 10254\n",
            "More than 100 Days     6683\n",
            "81-90                  4838\n",
            "91-100                 2765\n",
            "61-70                  2744\n",
            "Name: Stay, dtype: int64\n"
          ],
          "name": "stdout"
        }
      ]
    },
    {
      "cell_type": "code",
      "metadata": {
        "id": "UttU0_1QpIEV"
      },
      "source": [
        "la = df[df.Hospital_type_code == 'g']"
      ],
      "execution_count": null,
      "outputs": []
    },
    {
      "cell_type": "code",
      "metadata": {
        "colab": {
          "base_uri": "https://localhost:8080/"
        },
        "id": "ALFJKGBfqxbK",
        "outputId": "8d8d0d4e-cfb7-4cab-bfcd-5334145bc794"
      },
      "source": [
        "la.Hospital_code.value_counts()"
      ],
      "execution_count": null,
      "outputs": [
        {
          "output_type": "execute_result",
          "data": {
            "text/plain": [
              "22    6006\n",
              "Name: Hospital_code, dtype: int64"
            ]
          },
          "metadata": {
            "tags": []
          },
          "execution_count": 18
        }
      ]
    },
    {
      "cell_type": "code",
      "metadata": {
        "colab": {
          "base_uri": "https://localhost:8080/",
          "height": 356
        },
        "id": "oczwEYGyDHQl",
        "outputId": "e300f2d8-2bea-4fcc-f70c-f887112b3676"
      },
      "source": [
        "la.head()"
      ],
      "execution_count": null,
      "outputs": [
        {
          "output_type": "execute_result",
          "data": {
            "text/html": [
              "<div>\n",
              "<style scoped>\n",
              "    .dataframe tbody tr th:only-of-type {\n",
              "        vertical-align: middle;\n",
              "    }\n",
              "\n",
              "    .dataframe tbody tr th {\n",
              "        vertical-align: top;\n",
              "    }\n",
              "\n",
              "    .dataframe thead th {\n",
              "        text-align: right;\n",
              "    }\n",
              "</style>\n",
              "<table border=\"1\" class=\"dataframe\">\n",
              "  <thead>\n",
              "    <tr style=\"text-align: right;\">\n",
              "      <th></th>\n",
              "      <th>case_id</th>\n",
              "      <th>Hospital_code</th>\n",
              "      <th>Hospital_type_code</th>\n",
              "      <th>City_Code_Hospital</th>\n",
              "      <th>Hospital_region_code</th>\n",
              "      <th>Available Extra Rooms in Hospital</th>\n",
              "      <th>Department</th>\n",
              "      <th>Ward_Type</th>\n",
              "      <th>Ward_Facility_Code</th>\n",
              "      <th>Bed Grade</th>\n",
              "      <th>patientid</th>\n",
              "      <th>City_Code_Patient</th>\n",
              "      <th>Type of Admission</th>\n",
              "      <th>Severity of Illness</th>\n",
              "      <th>Visitors with Patient</th>\n",
              "      <th>Age</th>\n",
              "      <th>Admission_Deposit</th>\n",
              "      <th>Stay</th>\n",
              "    </tr>\n",
              "  </thead>\n",
              "  <tbody>\n",
              "    <tr>\n",
              "      <th>10</th>\n",
              "      <td>11</td>\n",
              "      <td>22</td>\n",
              "      <td>g</td>\n",
              "      <td>9</td>\n",
              "      <td>Y</td>\n",
              "      <td>2</td>\n",
              "      <td>radiotherapy</td>\n",
              "      <td>S</td>\n",
              "      <td>B</td>\n",
              "      <td>2.0</td>\n",
              "      <td>31397</td>\n",
              "      <td>7.0</td>\n",
              "      <td>Urgent</td>\n",
              "      <td>Extreme</td>\n",
              "      <td>2</td>\n",
              "      <td>51-60</td>\n",
              "      <td>5797.0</td>\n",
              "      <td>21-30</td>\n",
              "    </tr>\n",
              "    <tr>\n",
              "      <th>199</th>\n",
              "      <td>200</td>\n",
              "      <td>22</td>\n",
              "      <td>g</td>\n",
              "      <td>9</td>\n",
              "      <td>Y</td>\n",
              "      <td>4</td>\n",
              "      <td>gynecology</td>\n",
              "      <td>R</td>\n",
              "      <td>B</td>\n",
              "      <td>2.0</td>\n",
              "      <td>93250</td>\n",
              "      <td>25.0</td>\n",
              "      <td>Urgent</td>\n",
              "      <td>Moderate</td>\n",
              "      <td>2</td>\n",
              "      <td>31-40</td>\n",
              "      <td>4557.0</td>\n",
              "      <td>11-20</td>\n",
              "    </tr>\n",
              "    <tr>\n",
              "      <th>343</th>\n",
              "      <td>344</td>\n",
              "      <td>22</td>\n",
              "      <td>g</td>\n",
              "      <td>9</td>\n",
              "      <td>Y</td>\n",
              "      <td>2</td>\n",
              "      <td>gynecology</td>\n",
              "      <td>S</td>\n",
              "      <td>B</td>\n",
              "      <td>3.0</td>\n",
              "      <td>78271</td>\n",
              "      <td>8.0</td>\n",
              "      <td>Trauma</td>\n",
              "      <td>Extreme</td>\n",
              "      <td>2</td>\n",
              "      <td>61-70</td>\n",
              "      <td>5531.0</td>\n",
              "      <td>41-50</td>\n",
              "    </tr>\n",
              "    <tr>\n",
              "      <th>364</th>\n",
              "      <td>365</td>\n",
              "      <td>22</td>\n",
              "      <td>g</td>\n",
              "      <td>9</td>\n",
              "      <td>Y</td>\n",
              "      <td>4</td>\n",
              "      <td>gynecology</td>\n",
              "      <td>R</td>\n",
              "      <td>B</td>\n",
              "      <td>2.0</td>\n",
              "      <td>109166</td>\n",
              "      <td>5.0</td>\n",
              "      <td>Emergency</td>\n",
              "      <td>Moderate</td>\n",
              "      <td>2</td>\n",
              "      <td>31-40</td>\n",
              "      <td>3895.0</td>\n",
              "      <td>0-10</td>\n",
              "    </tr>\n",
              "    <tr>\n",
              "      <th>399</th>\n",
              "      <td>400</td>\n",
              "      <td>22</td>\n",
              "      <td>g</td>\n",
              "      <td>9</td>\n",
              "      <td>Y</td>\n",
              "      <td>2</td>\n",
              "      <td>gynecology</td>\n",
              "      <td>S</td>\n",
              "      <td>B</td>\n",
              "      <td>2.0</td>\n",
              "      <td>114256</td>\n",
              "      <td>8.0</td>\n",
              "      <td>Urgent</td>\n",
              "      <td>Extreme</td>\n",
              "      <td>3</td>\n",
              "      <td>71-80</td>\n",
              "      <td>4834.0</td>\n",
              "      <td>71-80</td>\n",
              "    </tr>\n",
              "  </tbody>\n",
              "</table>\n",
              "</div>"
            ],
            "text/plain": [
              "     case_id  Hospital_code Hospital_type_code  ...    Age Admission_Deposit   Stay\n",
              "10        11             22                  g  ...  51-60            5797.0  21-30\n",
              "199      200             22                  g  ...  31-40            4557.0  11-20\n",
              "343      344             22                  g  ...  61-70            5531.0  41-50\n",
              "364      365             22                  g  ...  31-40            3895.0   0-10\n",
              "399      400             22                  g  ...  71-80            4834.0  71-80\n",
              "\n",
              "[5 rows x 18 columns]"
            ]
          },
          "metadata": {
            "tags": []
          },
          "execution_count": 19
        }
      ]
    },
    {
      "cell_type": "code",
      "metadata": {
        "colab": {
          "base_uri": "https://localhost:8080/"
        },
        "id": "jrNfKeFdDTMS",
        "outputId": "288f2d94-1ac9-48d4-9944-22e15ef26621"
      },
      "source": [
        "df.isnull().any()"
      ],
      "execution_count": null,
      "outputs": [
        {
          "output_type": "execute_result",
          "data": {
            "text/plain": [
              "case_id                              False\n",
              "Hospital_code                        False\n",
              "Hospital_type_code                   False\n",
              "City_Code_Hospital                   False\n",
              "Hospital_region_code                 False\n",
              "Available Extra Rooms in Hospital    False\n",
              "Department                           False\n",
              "Ward_Type                            False\n",
              "Ward_Facility_Code                   False\n",
              "Bed Grade                             True\n",
              "patientid                            False\n",
              "City_Code_Patient                     True\n",
              "Type of Admission                    False\n",
              "Severity of Illness                  False\n",
              "Visitors with Patient                False\n",
              "Age                                  False\n",
              "Admission_Deposit                    False\n",
              "Stay                                  True\n",
              "dtype: bool"
            ]
          },
          "metadata": {
            "tags": []
          },
          "execution_count": 25
        }
      ]
    },
    {
      "cell_type": "code",
      "metadata": {
        "colab": {
          "base_uri": "https://localhost:8080/"
        },
        "id": "2AkYPQVwEUIh",
        "outputId": "74cc1604-aab4-47bd-bf8c-0d82caa56088"
      },
      "source": [
        "len(df[df['Bed Grade'].isnull()])"
      ],
      "execution_count": null,
      "outputs": [
        {
          "output_type": "execute_result",
          "data": {
            "text/plain": [
              "148"
            ]
          },
          "metadata": {
            "tags": []
          },
          "execution_count": 34
        }
      ]
    },
    {
      "cell_type": "code",
      "metadata": {
        "colab": {
          "base_uri": "https://localhost:8080/"
        },
        "id": "5OuOzLx5Eb64",
        "outputId": "793bb32a-3c57-4500-b448-dd438716eaaa"
      },
      "source": [
        "len(df[df['City_Code_Patient'].isnull()])"
      ],
      "execution_count": null,
      "outputs": [
        {
          "output_type": "execute_result",
          "data": {
            "text/plain": [
              "6689"
            ]
          },
          "metadata": {
            "tags": []
          },
          "execution_count": 35
        }
      ]
    },
    {
      "cell_type": "code",
      "metadata": {
        "colab": {
          "base_uri": "https://localhost:8080/"
        },
        "id": "hoLwoOMkGAb7",
        "outputId": "8c5c9d2d-c065-4f04-b27a-a9d70974f442"
      },
      "source": [
        "len(df[df['Stay'].isnull()])"
      ],
      "execution_count": null,
      "outputs": [
        {
          "output_type": "execute_result",
          "data": {
            "text/plain": [
              "137057"
            ]
          },
          "metadata": {
            "tags": []
          },
          "execution_count": 37
        }
      ]
    },
    {
      "cell_type": "code",
      "metadata": {
        "id": "HPW8aBZ4Ggez"
      },
      "source": [
        ""
      ],
      "execution_count": null,
      "outputs": []
    }
  ]
}