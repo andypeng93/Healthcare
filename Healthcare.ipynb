{
  "nbformat": 4,
  "nbformat_minor": 0,
  "metadata": {
    "colab": {
      "name": "Healthcare.ipynb",
      "provenance": [],
      "authorship_tag": "ABX9TyOZuhyCSY1o1XLOvasFaZiy",
      "include_colab_link": true
    },
    "kernelspec": {
      "name": "python3",
      "display_name": "Python 3"
    }
  },
  "cells": [
    {
      "cell_type": "markdown",
      "metadata": {
        "id": "view-in-github",
        "colab_type": "text"
      },
      "source": [
        "<a href=\"https://colab.research.google.com/github/andypeng93/Healthcare/blob/main/Healthcare.ipynb\" target=\"_parent\"><img src=\"https://colab.research.google.com/assets/colab-badge.svg\" alt=\"Open In Colab\"/></a>"
      ]
    },
    {
      "cell_type": "markdown",
      "metadata": {
        "id": "KLhSbTLWlWQm"
      },
      "source": [
        "# Importing Dataset"
      ]
    },
    {
      "cell_type": "code",
      "metadata": {
        "colab": {
          "base_uri": "https://localhost:8080/"
        },
        "id": "afqL0vMDPlJK",
        "outputId": "901aa56d-aea9-48f4-a402-897b5800d427"
      },
      "source": [
        "from google.colab import drive\r\n",
        "drive.mount('/content/gdrive')"
      ],
      "execution_count": 1,
      "outputs": [
        {
          "output_type": "stream",
          "text": [
            "Mounted at /content/gdrive\n"
          ],
          "name": "stdout"
        }
      ]
    },
    {
      "cell_type": "code",
      "metadata": {
        "id": "jwG2opI6RVhs"
      },
      "source": [
        "import os\r\n",
        "os.environ['KAGGLE_CONFIG_DIR'] = \"/content/gdrive/My Drive/Flatiron School/Healthcare\"\r\n",
        "# /content/gdrive/My Drive/Kaggle is the path where kaggle.json is present in the Google Drive"
      ],
      "execution_count": 2,
      "outputs": []
    },
    {
      "cell_type": "code",
      "metadata": {
        "colab": {
          "base_uri": "https://localhost:8080/"
        },
        "id": "vXdnGu5aliiZ",
        "outputId": "952746ed-abf0-417c-89ea-b70fed5a09f3"
      },
      "source": [
        "#changing the working directory\r\n",
        "%cd /content/gdrive/My Drive/Flatiron School/Healthcare\r\n",
        "#Check the present working directory using pwd command"
      ],
      "execution_count": 3,
      "outputs": [
        {
          "output_type": "stream",
          "text": [
            "/content/gdrive/My Drive/Flatiron School/Healthcare\n"
          ],
          "name": "stdout"
        }
      ]
    },
    {
      "cell_type": "code",
      "metadata": {
        "colab": {
          "base_uri": "https://localhost:8080/"
        },
        "id": "JdftN2Rmlqel",
        "outputId": "4c9c08da-4a54-46da-a982-dc5c9f2d58dc"
      },
      "source": [
        "!kaggle datasets download -d vetrirah/av-healthcare2"
      ],
      "execution_count": 4,
      "outputs": [
        {
          "output_type": "stream",
          "text": [
            "Downloading av-healthcare2.zip to /content/gdrive/My Drive/Flatiron School/Healthcare\n",
            " 76% 5.00M/6.54M [00:00<00:00, 31.2MB/s]\n",
            "100% 6.54M/6.54M [00:00<00:00, 31.1MB/s]\n"
          ],
          "name": "stdout"
        }
      ]
    },
    {
      "cell_type": "code",
      "metadata": {
        "colab": {
          "base_uri": "https://localhost:8080/"
        },
        "id": "XLR2XVUblunc",
        "outputId": "a9d8bf38-e3e8-41e5-c9a9-915a63e3fc21"
      },
      "source": [
        "#unzipping the zip files and deleting the zip files\r\n",
        "!unzip \\*.zip  && rm *.zip"
      ],
      "execution_count": 6,
      "outputs": [
        {
          "output_type": "stream",
          "text": [
            "Archive:  av-healthcare2.zip\n",
            "  inflating: sample_submission.csv   \n",
            "  inflating: test.csv                \n",
            "  inflating: train.csv               \n",
            "  inflating: train_data_dict.csv     \n"
          ],
          "name": "stdout"
        }
      ]
    },
    {
      "cell_type": "code",
      "metadata": {
        "colab": {
          "base_uri": "https://localhost:8080/"
        },
        "id": "H3r76iUblv_r",
        "outputId": "b4a109fa-bf78-4a60-c2b0-191ba2896239"
      },
      "source": [
        "!ls"
      ],
      "execution_count": 7,
      "outputs": [
        {
          "output_type": "stream",
          "text": [
            "Healthcare.ipynb  sample_submission.csv  train.csv\n",
            "kaggle.json\t  test.csv\t\t train_data_dict.csv\n"
          ],
          "name": "stdout"
        }
      ]
    },
    {
      "cell_type": "markdown",
      "metadata": {
        "id": "e111iZm9l4SQ"
      },
      "source": [
        "# Imports and Loading Datasets"
      ]
    },
    {
      "cell_type": "code",
      "metadata": {
        "id": "md2_YQagl1PC"
      },
      "source": [
        "import pandas as pd\r\n",
        "import numpy as np\r\n",
        "import matplotlib.pyplot as plt\r\n",
        "%matplotlib inline\r\n",
        "import keras\r\n",
        "import tensorflow as tf\r\n",
        "from keras import models, layers, optimizers, regularizers\r\n",
        "from keras.models import Sequential\r\n",
        "from keras.layers import Dense\r\n",
        "from sklearn.model_selection import train_test_split\r\n",
        "from keras.preprocessing import image\r\n",
        "import seaborn as sns\r\n",
        "from sklearn.metrics import roc_curve, auc, precision_score, recall_score, accuracy_score, f1_score, confusion_matrix, classification_report, roc_auc_score\r\n",
        "np.random.seed(123)"
      ],
      "execution_count": 9,
      "outputs": []
    },
    {
      "cell_type": "code",
      "metadata": {
        "colab": {
          "base_uri": "https://localhost:8080/"
        },
        "id": "6wNoxCACmDKO",
        "outputId": "fe0ae3cf-4244-49d0-aac1-8fdb063f4c4c"
      },
      "source": [
        "df = pd.read_csv('train.csv')\r\n",
        "print(df.head())\r\n",
        "print(len(df))"
      ],
      "execution_count": 14,
      "outputs": [
        {
          "output_type": "stream",
          "text": [
            "   case_id  Hospital_code Hospital_type_code  ...    Age Admission_Deposit   Stay\n",
            "0        1              8                  c  ...  51-60            4911.0   0-10\n",
            "1        2              2                  c  ...  51-60            5954.0  41-50\n",
            "2        3             10                  e  ...  51-60            4745.0  31-40\n",
            "3        4             26                  b  ...  51-60            7272.0  41-50\n",
            "4        5             26                  b  ...  51-60            5558.0  41-50\n",
            "\n",
            "[5 rows x 18 columns]\n",
            "318438\n"
          ],
          "name": "stdout"
        }
      ]
    },
    {
      "cell_type": "code",
      "metadata": {
        "colab": {
          "base_uri": "https://localhost:8080/"
        },
        "id": "zsdbxyQQmKJ5",
        "outputId": "c81784bf-8f7e-41c9-9d92-21c512d4927a"
      },
      "source": [
        "dftest = pd.read_csv('test.csv')\r\n",
        "print(dftest.head())\r\n",
        "print(len(dftest))"
      ],
      "execution_count": 17,
      "outputs": [
        {
          "output_type": "stream",
          "text": [
            "   case_id  Hospital_code  ...    Age  Admission_Deposit\n",
            "0   318439             21  ...  71-80             3095.0\n",
            "1   318440             29  ...  71-80             4018.0\n",
            "2   318441             26  ...  71-80             4492.0\n",
            "3   318442              6  ...  71-80             4173.0\n",
            "4   318443             28  ...  71-80             4161.0\n",
            "\n",
            "[5 rows x 17 columns]\n",
            "137057\n"
          ],
          "name": "stdout"
        }
      ]
    },
    {
      "cell_type": "code",
      "metadata": {
        "id": "z7E2GjdTm1Vv"
      },
      "source": [
        ""
      ],
      "execution_count": null,
      "outputs": []
    }
  ]
}